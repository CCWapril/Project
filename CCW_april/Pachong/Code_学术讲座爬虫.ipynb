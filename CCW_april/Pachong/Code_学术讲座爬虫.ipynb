{
 "cells": [
  {
   "cell_type": "code",
   "execution_count": 16,
   "id": "3ea74f1f",
   "metadata": {},
   "outputs": [],
   "source": [
    "import pickle\n",
    "import pandas as pd\n",
    "# 爬取学院讲座信息\n",
    "import requests\n",
    "import json\n",
    "import re\n",
    "import csv\n",
    "import os"
   ]
  },
  {
   "cell_type": "code",
   "execution_count": 2,
   "id": "5ac65ed3",
   "metadata": {},
   "outputs": [],
   "source": [
    "headers = {\n",
    "    \"User-Agent\": \"Mozilla/5.0 (Windows NT 10.0; WOW64) AppleWebKit/537.36 (KHTML, like Gecko) Chrome/58.0.3029.110 Safari/537.36 SE 2.X MetaSr 1.0\"} \n"
   ]
  },
  {
   "cell_type": "code",
   "execution_count": 29,
   "id": "312fb8e6",
   "metadata": {},
   "outputs": [],
   "source": [
    "#定义txt写入函数\n",
    "def file_data(dic):\n",
    "    with open('学术讲座.txt', 'a', encoding='utf-8') as f:\n",
    "        f.write(json.dumps(dic, ensure_ascii=False) + '\\n')"
   ]
  },
  {
   "cell_type": "code",
   "execution_count": 4,
   "id": "8299b348",
   "metadata": {},
   "outputs": [],
   "source": [
    "#文本清洗\n",
    "def clean(txt):\n",
    "    for i in ['</th>','<td>','<p>','</p>','<div>','</div>','\\r\\n','<','>']:\n",
    "        txt = txt.replace(i, '')\n",
    "    return txt"
   ]
  },
  {
   "cell_type": "code",
   "execution_count": 5,
   "id": "13bb8a59",
   "metadata": {},
   "outputs": [],
   "source": [
    "# 爬取主讲人介绍与讲座简介 url_i = 'https://wise.xmu.edu.cn/'+ results[0][0][6:]\n",
    "def intro(url):\n",
    "    response_i = requests.get(url, headers = headers)\n",
    "    response_i.encoding='utf-8'\n",
    "    text_i = response_i.text\n",
    "    regix = '''<div.*?>.*?<div class=\"content\">.*?<div class=\"article_content\">.*?主讲人简介：(.*?)</td>.*?讲座简介：(.*?)</td>.*?</div>'''\n",
    "    results_i = re.findall(regix, text_i, re.S)\n",
    "    # 将主讲人介绍信息进行拼接\n",
    "#     print(len(results_i))\n",
    "    txt_p,txt_le = results_i[0]\n",
    "    regix_0 = '''>.*?<'''\n",
    "    res_p = re.findall(regix_0, txt_p, re.S)\n",
    "    res_p = ''.join(res_p)\n",
    "    # 文本清洗\n",
    "    intro_p = clean(res_p)\n",
    "    intro_le = clean(txt_le)\n",
    "    return intro_p, intro_le"
   ]
  },
  {
   "cell_type": "code",
   "execution_count": 42,
   "id": "6db04a4c",
   "metadata": {},
   "outputs": [],
   "source": [
    "# 爬取信息\n",
    "def spider(url, headers):\n",
    "    response = requests.get(url, headers = headers)\n",
    "    response.encoding='utf-8'\n",
    "    text = response.text\n",
    "    regix = '''<li.*?>.*?<em class=\"arrow\"></em>.*?<p class=\"room-cell\"><a href=\"(.*?)\" target=\"_blank\" title=\"\">(.*?):(.*?)</a>.*?<a href=\"\" class=\"go_site\" target=\"_blank\"></a></p>.*?<label class=\"top\">.*?时间：(.*?)</label>.*?<label class=\"top\">.*?地点：(.*?)</label>.*?</li>'''\n",
    "    results = re.findall(regix, text, re.S)    \n",
    "    for item in results:\n",
    "        #判断是否为国外讲座\n",
    "        pattern = re.compile('^[A-Za-z0-9.,:!?(--)_*\"\\' ]+$')\n",
    "        if pattern.fullmatch(item[2]) == None:\n",
    "            continue\n",
    "        url_i = 'https://wise.xmu.edu.cn/'+ item[0][6:]\n",
    "#         print(url_i)\n",
    "        intro_p, intro_le = intro(url_i)\n",
    "        dic = {\n",
    "            '讲座时间': item[3],\n",
    "            '讲座嘉宾': item[1],\n",
    "            '嘉宾介绍': intro_p,\n",
    "            '讲座题目': item[2],\n",
    "            '讲座地点': item[4],\n",
    "            '讲座简介': intro_le\n",
    "        }\n",
    "        file_data(dic)\n",
    "        df = pd.DataFrame([dic])\n",
    "        df.to_csv('学术讲座信息.csv', mode='a',encoding='utf-8', header=True,index=None)"
   ]
  },
  {
   "cell_type": "code",
   "execution_count": 44,
   "id": "22dde4b2",
   "metadata": {},
   "outputs": [],
   "source": [
    "# 爬虫进程\n",
    "def main():\n",
    "    # 爬取首页\n",
    "    url_0 = 'https://wise.xmu.edu.cn/xsdt/xsjz/qb.htm'\n",
    "    spider(url_0, headers)\n",
    "    print('完成首页！')\n",
    "    \n",
    "    # 爬取后85页\n",
    "    for i in range(1, 85):\n",
    "        url_i = f'https://wise.xmu.edu.cn/xsdt/xsjz/qb/{86-i}.htm'.format(i)\n",
    "        spider(url_i, headers)\n",
    "        print('完成第{}页！'.format(i+1))\n"
   ]
  },
  {
   "cell_type": "code",
   "execution_count": 45,
   "id": "9a1e742b",
   "metadata": {
    "scrolled": true
   },
   "outputs": [
    {
     "name": "stdout",
     "output_type": "stream",
     "text": [
      "完成首页！\n",
      "完成第2页！\n",
      "完成第3页！\n",
      "完成第4页！\n",
      "完成第5页！\n",
      "完成第6页！\n",
      "完成第7页！\n",
      "完成第8页！\n",
      "完成第9页！\n",
      "完成第10页！\n",
      "完成第11页！\n",
      "完成第12页！\n",
      "完成第13页！\n",
      "完成第14页！\n",
      "完成第15页！\n",
      "完成第16页！\n",
      "完成第17页！\n",
      "完成第18页！\n",
      "完成第19页！\n",
      "完成第20页！\n",
      "完成第21页！\n",
      "完成第22页！\n",
      "完成第23页！\n",
      "完成第24页！\n",
      "完成第25页！\n",
      "完成第26页！\n",
      "完成第27页！\n",
      "完成第28页！\n",
      "完成第29页！\n",
      "完成第30页！\n",
      "完成第31页！\n",
      "完成第32页！\n",
      "完成第33页！\n",
      "完成第34页！\n",
      "完成第35页！\n",
      "完成第36页！\n",
      "完成第37页！\n",
      "完成第38页！\n",
      "完成第39页！\n",
      "完成第40页！\n",
      "完成第41页！\n",
      "完成第42页！\n",
      "完成第43页！\n",
      "完成第44页！\n",
      "完成第45页！\n",
      "完成第46页！\n",
      "完成第47页！\n",
      "完成第48页！\n",
      "完成第49页！\n",
      "完成第50页！\n",
      "完成第51页！\n",
      "完成第52页！\n",
      "完成第53页！\n",
      "完成第54页！\n",
      "完成第55页！\n",
      "完成第56页！\n",
      "完成第57页！\n",
      "完成第58页！\n",
      "完成第59页！\n",
      "完成第60页！\n",
      "完成第61页！\n",
      "完成第62页！\n",
      "完成第63页！\n",
      "完成第64页！\n",
      "完成第65页！\n",
      "完成第66页！\n",
      "完成第67页！\n",
      "完成第68页！\n",
      "完成第69页！\n",
      "完成第70页！\n",
      "完成第71页！\n",
      "完成第72页！\n",
      "完成第73页！\n",
      "完成第74页！\n",
      "完成第75页！\n",
      "完成第76页！\n",
      "完成第77页！\n",
      "完成第78页！\n",
      "完成第79页！\n",
      "完成第80页！\n",
      "完成第81页！\n",
      "完成第82页！\n",
      "完成第83页！\n",
      "完成第84页！\n",
      "完成第85页！\n"
     ]
    }
   ],
   "source": [
    "if '__name__' == '__main__':\n",
    "    main()"
   ]
  }
 ],
 "metadata": {
  "kernelspec": {
   "display_name": "Python 3 (ipykernel)",
   "language": "python",
   "name": "python3"
  },
  "language_info": {
   "codemirror_mode": {
    "name": "ipython",
    "version": 3
   },
   "file_extension": ".py",
   "mimetype": "text/x-python",
   "name": "python",
   "nbconvert_exporter": "python",
   "pygments_lexer": "ipython3",
   "version": "3.9.13"
  }
 },
 "nbformat": 4,
 "nbformat_minor": 5
}
