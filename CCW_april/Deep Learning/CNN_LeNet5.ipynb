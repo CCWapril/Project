{
 "cells": [
  {
   "cell_type": "code",
   "execution_count": 10,
   "metadata": {
    "id": "8haiwmoCpbGC"
   },
   "outputs": [],
   "source": [
    "import torch\n",
    "import torchvision\n",
    "import torchvision.transforms as transforms\n",
    "import pandas as pd\n",
    "import numpy as np\n",
    "import matplotlib.pyplot as plt\n",
    "from torch.utils.data import Dataset, DataLoader\n",
    "from torchvision import transforms, utils"
   ]
  },
  {
   "cell_type": "markdown",
   "metadata": {
    "id": "JWmRbUiwj7iQ"
   },
   "source": [
    "# Get Knowing the Data"
   ]
  },
  {
   "cell_type": "code",
   "execution_count": 3,
   "metadata": {
    "id": "mD4f3OH0r_Fz"
   },
   "outputs": [],
   "source": [
    "MNISTtrain = pd.read_csv(\"mnist_train_small.csv\", header=None)\n",
    "MNISTtest = pd.read_csv(\"mnist_test.csv\", header=None)"
   ]
  },
  {
   "cell_type": "code",
   "execution_count": 4,
   "metadata": {
    "id": "IgwT02v4uetI"
   },
   "outputs": [
    {
     "data": {
      "text/plain": [
       "(20000, 785)"
      ]
     },
     "execution_count": 4,
     "metadata": {},
     "output_type": "execute_result"
    }
   ],
   "source": [
    "MNISTtrain.shape"
   ]
  },
  {
   "cell_type": "code",
   "execution_count": 4,
   "metadata": {
    "id": "FjBL-9meubKj"
   },
   "outputs": [
    {
     "data": {
      "text/plain": [
       "28.0"
      ]
     },
     "execution_count": 4,
     "metadata": {},
     "output_type": "execute_result"
    }
   ],
   "source": [
    "import math\n",
    "math.sqrt(784)"
   ]
  },
  {
   "cell_type": "code",
   "execution_count": 5,
   "metadata": {
    "id": "0GWIeAwgvEwK"
   },
   "outputs": [
    {
     "data": {
      "text/plain": [
       "(785,)"
      ]
     },
     "execution_count": 5,
     "metadata": {},
     "output_type": "execute_result"
    }
   ],
   "source": [
    "sample1 = MNISTtrain.iloc[0]\n",
    "sample1.shape"
   ]
  },
  {
   "cell_type": "code",
   "execution_count": 6,
   "metadata": {
    "id": "NGsgYWPEvOiL"
   },
   "outputs": [],
   "source": [
    "label1 = sample1[0]"
   ]
  },
  {
   "cell_type": "code",
   "execution_count": 7,
   "metadata": {
    "id": "XcV0bye1wEzB"
   },
   "outputs": [
    {
     "data": {
      "image/png": "[encoded data removed]",
      "text/plain": [
       "<Figure size 640x480 with 1 Axes>"
      ]
     },
     "metadata": {},
     "output_type": "display_data"
    }
   ],
   "source": [
    "pixels = sample1[1:]\n",
    "pixels = np.array(pixels, dtype='uint8')\n",
    "pixels = pixels.reshape((28, 28))\n",
    "\n",
    "# Plot\n",
    "plt.title(f\"Label is {label1}.\")\n",
    "plt.imshow(pixels, cmap='gray')\n",
    "plt.show()"
   ]
  },
  {
   "cell_type": "markdown",
   "metadata": {
    "id": "bqowVMD7j-OZ"
   },
   "source": [
    "# Create An Iterable Dataset"
   ]
  },
  {
   "cell_type": "code",
   "execution_count": 8,
   "metadata": {
    "id": "rTftplzhwUed"
   },
   "outputs": [],
   "source": [
    "class MNISTDataSet(torch.utils.data.Dataset):\n",
    "    def __init__(self, df, transforms=None):\n",
    "        self.X = df.iloc[:,1:]\n",
    "        self.y = df.iloc[:,0]\n",
    "        self.transforms = transforms\n",
    "\n",
    "    def __len__(self):\n",
    "        return len(self.X)\n",
    "\n",
    "    def __getitem__(self, idx):\n",
    "        image = self.X.iloc[idx, :]\n",
    "        # image: ndarray\n",
    "        image = (np.array(image).astype(np.float32).reshape(28, 28, 1))\n",
    "        sample = {'image': image, 'label':(self.y[idx])}\n",
    "\n",
    "        if self.transforms:\n",
    "            sample['image'] = self.transforms(sample['image'])\n",
    "\n",
    "        return sample"
   ]
  },
  {
   "cell_type": "code",
   "execution_count": 11,
   "metadata": {
    "id": "rO7VWFuz0fSQ"
   },
   "outputs": [],
   "source": [
    "transform = transforms.Compose(\n",
    "    [transforms.ToPILImage(),\n",
    "     transforms.ToTensor(),\n",
    "     transforms.Normalize((0.1307,), (0.3081,))])\n",
    "# Converts a torch.*Tensor of shape C x H x W\n",
    "# or a numpy ndarray of shape H x W x C to a PIL Image\n",
    "# while adjusting the value range depending on the mode."
   ]
  },
  {
   "cell_type": "code",
   "execution_count": 12,
   "metadata": {
    "id": "93DZ_yR9zSqO"
   },
   "outputs": [],
   "source": [
    "# 数据转化\n",
    "trainset = MNISTDataSet(MNISTtrain, transforms=transform)"
   ]
  },
  {
   "cell_type": "code",
   "execution_count": 13,
   "metadata": {
    "id": "UHihBb-I1Bhb"
   },
   "outputs": [],
   "source": [
    "batch_size = 64"
   ]
  },
  {
   "cell_type": "code",
   "execution_count": 16,
   "metadata": {
    "id": "6WQan68K0Szv"
   },
   "outputs": [],
   "source": [
    "trainloader = DataLoader(trainset, batch_size=batch_size, shuffle=True)"
   ]
  },
  {
   "cell_type": "code",
   "execution_count": 17,
   "metadata": {
    "id": "rni5P14S07_T"
   },
   "outputs": [
    {
     "name": "stdout",
     "output_type": "stream",
     "text": [
      "0 torch.Size([64, 1, 28, 28]) torch.Size([64])\n"
     ]
    }
   ],
   "source": [
    "for i_batch, sample_batched in enumerate(trainloader):\n",
    "    if i_batch == 0:\n",
    "      print(i_batch, sample_batched['image'].size(),\n",
    "            sample_batched['label'].size())\n",
    "      break"
   ]
  },
  {
   "cell_type": "markdown",
   "metadata": {
    "id": "cxHp3USA39iw"
   },
   "source": [
    "# CNN\n",
    "\n",
    "`torch.nn` has the layers we need.\n",
    "\n",
    "`torch.nn.functional` has the activation functions.\n",
    "\n",
    "The APIs can be found using the link at the bottom."
   ]
  },
  {
   "cell_type": "code",
   "execution_count": 18,
   "metadata": {
    "id": "2JxNByXM1Dxx"
   },
   "outputs": [],
   "source": [
    "import torch.nn as nn\n",
    "import torch.nn.functional as F"
   ]
  },
  {
   "cell_type": "markdown",
   "metadata": {},
   "source": [
    "__LeNet5__"
   ]
  },
  {
   "cell_type": "code",
   "execution_count": 19,
   "metadata": {
    "id": "_xz-C9ki4bTT"
   },
   "outputs": [],
   "source": [
    "class Net(nn.Module):\n",
    "    def __init__(self):\n",
    "        super().__init__()\n",
    "        self.conv1 = nn.Conv2d(1, 6, 5) # initial in_channel must be specified\n",
    "        self.pool = nn.MaxPool2d(2, 2)\n",
    "        self.conv2 = nn.Conv2d(6, 16, 5)\n",
    "        self.fc1 = nn.Linear(16 * 4 * 4, 120)\n",
    "        self.fc2 = nn.Linear(120, 84)\n",
    "        self.fc3 = nn.Linear(84, 10)\n",
    "\n",
    "    def forward(self, x):\n",
    "        x = self.pool(F.relu(self.conv1(x)))\n",
    "        x = self.pool(F.relu(self.conv2(x)))\n",
    "        x = torch.flatten(x, 1) # flatten all dimensions except batch\n",
    "        x = F.relu(self.fc1(x))\n",
    "        x = F.relu(self.fc2(x))\n",
    "        x = self.fc3(x)\n",
    "        return x\n",
    "# torch.nn.Conv2d(in_channels, out_channels, kernel_size, stride=1, padding=0, dilation=1,\n",
    "#                 groups=1, bias=True, padding_mode='zeros', device=None, dtype=None)\n",
    "# out(Ni, Coutj) = bias(Coutj) + sumk(weight(Coutj, k) * input(Ni, k))\n",
    "# torch.nn.MaxPool2d(kernel_size, stride=None, padding=0,\n",
    "#                    dilation=1, return_indices=False, ceil_mode=False)\n",
    "# https://pytorch.org/docs/stable/generated/torch.nn.Conv2d.html#torch.nn.Conv2d"
   ]
  },
  {
   "cell_type": "code",
   "execution_count": 21,
   "metadata": {
    "id": "VLNvBMgi5QKr"
   },
   "outputs": [],
   "source": [
    "net = Net()"
   ]
  },
  {
   "cell_type": "markdown",
   "metadata": {
    "id": "_c7589S44fbH"
   },
   "source": [
    "Loss and optimizer: MNIST is the 10-class classification dataset. \n",
    "\n",
    "We use `CrossEntropyLoss` and `SGD`. \n",
    "\n",
    "Note that the `SGD` in `torch` is just gradient descent. \n",
    "\n",
    "We have already provided the \"mini-batch\" part."
   ]
  },
  {
   "cell_type": "code",
   "execution_count": 22,
   "metadata": {
    "id": "HhD5dqur4cK7"
   },
   "outputs": [],
   "source": [
    "import torch.optim as optim"
   ]
  },
  {
   "cell_type": "code",
   "execution_count": 23,
   "metadata": {
    "id": "YoVNYLsQ5IAs"
   },
   "outputs": [],
   "source": [
    "criterion = nn.CrossEntropyLoss()\n",
    "optimizer = optim.SGD(net.parameters(), lr=0.001, momentum=0.9)"
   ]
  },
  {
   "cell_type": "code",
   "execution_count": 24,
   "metadata": {
    "id": "hdOKdHCN5M8h"
   },
   "outputs": [
    {
     "name": "stdout",
     "output_type": "stream",
     "text": [
      "<class 'torch.nn.parameter.Parameter'> torch.Size([6, 1, 5, 5])\n",
      "<class 'torch.nn.parameter.Parameter'> torch.Size([6])\n",
      "<class 'torch.nn.parameter.Parameter'> torch.Size([16, 6, 5, 5])\n",
      "<class 'torch.nn.parameter.Parameter'> torch.Size([16])\n",
      "<class 'torch.nn.parameter.Parameter'> torch.Size([120, 256])\n",
      "<class 'torch.nn.parameter.Parameter'> torch.Size([120])\n",
      "<class 'torch.nn.parameter.Parameter'> torch.Size([84, 120])\n",
      "<class 'torch.nn.parameter.Parameter'> torch.Size([84])\n",
      "<class 'torch.nn.parameter.Parameter'> torch.Size([10, 84])\n",
      "<class 'torch.nn.parameter.Parameter'> torch.Size([10])\n"
     ]
    }
   ],
   "source": [
    "for param in net.parameters():\n",
    "    print(type(param), param.size())"
   ]
  },
  {
   "cell_type": "markdown",
   "metadata": {
    "id": "tDjlcNGt5VQi"
   },
   "source": [
    "# Train the Model"
   ]
  },
  {
   "cell_type": "code",
   "execution_count": 25,
   "metadata": {
    "id": "ii63xyVK5TXA"
   },
   "outputs": [],
   "source": [
    "def trainBySGD(epochSize):\n",
    "    for epoch in range(epochSize):  # loop over the dataset multiple times\n",
    "\n",
    "        running_loss = 0.0\n",
    "        for i, data in enumerate(trainloader, 0):\n",
    "            # get the inputs; data is a list of [inputs, labels]\n",
    "            inputs, labels = data['image'], data['label']\n",
    "\n",
    "            # zero the parameter gradients\n",
    "            optimizer.zero_grad()\n",
    "\n",
    "            # forward + backward + optimize\n",
    "            outputs = net(inputs)\n",
    "            loss = criterion(outputs, labels)\n",
    "            loss.backward()\n",
    "            optimizer.step()\n",
    "\n",
    "            # print statistics\n",
    "            running_loss += loss.item()\n",
    "            if i % 100 == 99:    # print every 2000 mini-batches\n",
    "                print(f'[{epoch + 1}, {i + 1:5d}] loss: {running_loss / 2000:.3f}')\n",
    "                running_loss = 0.0\n",
    "\n",
    "    print('Finished Training')\n",
    "# torch.nn.CrossEntropyLoss(weight=None, size_average=None, ignore_index=-100, \n",
    "#                           reduce=None, reduction='mean', label_smoothing=0.0)"
   ]
  },
  {
   "cell_type": "code",
   "execution_count": 26,
   "metadata": {
    "id": "u9UOYPXK5dt5"
   },
   "outputs": [
    {
     "name": "stdout",
     "output_type": "stream",
     "text": [
      "[1,   100] loss: 0.073\n",
      "[1,   200] loss: 0.016\n",
      "[1,   300] loss: 0.012\n",
      "[2,   100] loss: 0.008\n",
      "[2,   200] loss: 0.008\n",
      "[2,   300] loss: 0.008\n",
      "[3,   100] loss: 0.006\n",
      "[3,   200] loss: 0.005\n",
      "[3,   300] loss: 0.006\n",
      "[4,   100] loss: 0.004\n",
      "[4,   200] loss: 0.004\n",
      "[4,   300] loss: 0.004\n",
      "[5,   100] loss: 0.003\n",
      "[5,   200] loss: 0.004\n",
      "[5,   300] loss: 0.004\n",
      "Finished Training\n"
     ]
    }
   ],
   "source": [
    "trainBySGD(5)"
   ]
  },
  {
   "cell_type": "markdown",
   "metadata": {
    "id": "H4XL7Eo6mgJE"
   },
   "source": [
    "# Evaluation"
   ]
  },
  {
   "cell_type": "code",
   "execution_count": 27,
   "metadata": {
    "id": "Bff1Sd5d5e6k"
   },
   "outputs": [
    {
     "data": {
      "text/plain": [
       "Net(\n",
       "  (conv1): Conv2d(1, 6, kernel_size=(5, 5), stride=(1, 1))\n",
       "  (pool): MaxPool2d(kernel_size=2, stride=2, padding=0, dilation=1, ceil_mode=False)\n",
       "  (conv2): Conv2d(6, 16, kernel_size=(5, 5), stride=(1, 1))\n",
       "  (fc1): Linear(in_features=256, out_features=120, bias=True)\n",
       "  (fc2): Linear(in_features=120, out_features=84, bias=True)\n",
       "  (fc3): Linear(in_features=84, out_features=10, bias=True)\n",
       ")"
      ]
     },
     "execution_count": 27,
     "metadata": {},
     "output_type": "execute_result"
    }
   ],
   "source": [
    "testset = MNISTDataSet(MNISTtest, transforms=transform)\n",
    "testloader = DataLoader(testset, batch_size=batch_size, shuffle=True)\n",
    "net.eval()"
   ]
  },
  {
   "cell_type": "code",
   "execution_count": 28,
   "metadata": {
    "id": "4O0zeXfrkRpD"
   },
   "outputs": [],
   "source": [
    "predictions = torch.LongTensor()\n",
    "truevalues = torch.LongTensor()\n",
    "loss = 0"
   ]
  },
  {
   "cell_type": "code",
   "execution_count": 29,
   "metadata": {
    "id": "H7alNUMIkTUX"
   },
   "outputs": [
    {
     "name": "stdout",
     "output_type": "stream",
     "text": [
      "tensor([4, 8, 7, 1]) tensor([4, 8, 7, 1])\n",
      "tensor([7, 9, 7, 9]) tensor([7, 9, 5, 9])\n",
      "tensor([7, 7, 4, 7]) tensor([7, 7, 4, 7])\n",
      "tensor([8, 5, 6, 0]) tensor([8, 5, 6, 0])\n",
      "tensor([9, 1, 6, 0]) tensor([9, 1, 6, 0])\n",
      "tensor([4, 2, 3, 6]) tensor([4, 2, 3, 6])\n",
      "tensor([4, 5, 4, 6]) tensor([4, 5, 4, 6])\n",
      "tensor([3, 2, 0, 5]) tensor([3, 2, 0, 5])\n",
      "tensor([3, 3, 0, 7]) tensor([3, 3, 0, 7])\n",
      "tensor([2, 9, 8, 9]) tensor([2, 9, 8, 9])\n",
      "tensor([7, 3, 6, 0]) tensor([7, 3, 6, 0])\n"
     ]
    },
    {
     "data": {
      "text/plain": [
       "tensor(0.0053, grad_fn=<NllLossBackward0>)"
      ]
     },
     "execution_count": 29,
     "metadata": {},
     "output_type": "execute_result"
    }
   ],
   "source": [
    "for idx, eval_batched in enumerate(testloader):\n",
    "    images = eval_batched['image']\n",
    "    label_true = eval_batched['label']\n",
    "    preds = net(images)\n",
    "    predictions = torch.cat((predictions, preds.argmax(dim=1)), dim=0)\n",
    "    truevalues = torch.cat((truevalues, label_true), dim=0)\n",
    "    loss = criterion(preds, label_true)\n",
    "    if idx <= 10:\n",
    "      print(preds.argmax(dim=1)[0:4], label_true[0:4])\n",
    "loss"
   ]
  },
  {
   "cell_type": "code",
   "execution_count": null,
   "metadata": {
    "id": "k_q8zgW9kUU0"
   },
   "outputs": [],
   "source": []
  }
 ],
 "metadata": {
  "colab": {
   "provenance": []
  },
  "kernelspec": {
   "display_name": "Python 3 (ipykernel)",
   "language": "python",
   "name": "python3"
  },
  "language_info": {
   "codemirror_mode": {
    "name": "ipython",
    "version": 3
   },
   "file_extension": ".py",
   "mimetype": "text/x-python",
   "name": "python",
   "nbconvert_exporter": "python",
   "pygments_lexer": "ipython3",
   "version": "3.9.18"
  }
 },
 "nbformat": 4,
 "nbformat_minor": 1
}
